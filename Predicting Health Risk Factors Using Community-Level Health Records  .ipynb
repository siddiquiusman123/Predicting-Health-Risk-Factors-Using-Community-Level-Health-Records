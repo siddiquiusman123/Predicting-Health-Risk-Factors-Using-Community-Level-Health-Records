{
 "cells": [
  {
   "cell_type": "markdown",
   "id": "903ecbd1-df12-4dd4-ae0a-166ef5c73d67",
   "metadata": {},
   "source": [
    "# Predicting Health Risk Factors Using Community-Level Health Records  "
   ]
  },
  {
   "cell_type": "code",
   "execution_count": 1,
   "id": "6f009e3f-7077-4281-8112-527c2f51a991",
   "metadata": {},
   "outputs": [],
   "source": [
    "# Import Required Libraries"
   ]
  },
  {
   "cell_type": "code",
   "execution_count": 2,
   "id": "205a6f86-4480-4371-919f-26e7a6cd424f",
   "metadata": {},
   "outputs": [],
   "source": [
    "import pandas as pd\n",
    "import numpy as np\n",
    "import matplotlib.pyplot as plt\n",
    "import seaborn as sns\n",
    "import joblib\n",
    "import scipy.stats as stats\n",
    "from sklearn.model_selection import train_test_split , KFold , StratifiedKFold , GridSearchCV , RandomizedSearchCV , cross_val_score\n",
    "from imblearn.over_sampling import SMOTE\n",
    "from sklearn.preprocessing import StandardScaler , OneHotEncoder , LabelEncoder , OrdinalEncoder\n",
    "from sklearn.linear_model import LogisticRegression\n",
    "from sklearn.neighbors import KNeighborsClassifier\n",
    "from sklearn.tree import DecisionTreeClassifier\n",
    "from sklearn.svm import SVC\n",
    "from sklearn.ensemble import RandomForestClassifier\n",
    "from sklearn.ensemble import AdaBoostClassifier , GradientBoostingClassifier\n",
    "import xgboost as xgb\n",
    "from mlxtend.plotting import plot_decision_regions\n",
    "from sklearn.metrics import accuracy_score , precision_score , f1_score , recall_score , confusion_matrix , classification_report"
   ]
  },
  {
   "cell_type": "code",
   "execution_count": 3,
   "id": "13b086aa-3d23-4896-b32b-759361954d9b",
   "metadata": {},
   "outputs": [],
   "source": [
    "# Load The Dataset"
   ]
  },
  {
   "cell_type": "code",
   "execution_count": 4,
   "id": "72123011-bfd4-4fb2-8a0f-13480fa3e5bc",
   "metadata": {},
   "outputs": [],
   "source": [
    "dataset = pd.read_csv(\"health_data.csv\")"
   ]
  },
  {
   "cell_type": "code",
   "execution_count": 5,
   "id": "99197077-eb7b-4c4e-8244-6c2a27ebdf47",
   "metadata": {},
   "outputs": [
    {
     "data": {
      "text/html": [
       "<div>\n",
       "<style scoped>\n",
       "    .dataframe tbody tr th:only-of-type {\n",
       "        vertical-align: middle;\n",
       "    }\n",
       "\n",
       "    .dataframe tbody tr th {\n",
       "        vertical-align: top;\n",
       "    }\n",
       "\n",
       "    .dataframe thead th {\n",
       "        text-align: right;\n",
       "    }\n",
       "</style>\n",
       "<table border=\"1\" class=\"dataframe\">\n",
       "  <thead>\n",
       "    <tr style=\"text-align: right;\">\n",
       "      <th></th>\n",
       "      <th>Name</th>\n",
       "      <th>Gender</th>\n",
       "      <th>Age</th>\n",
       "      <th>Systolic BP</th>\n",
       "      <th>Diastolic BP</th>\n",
       "      <th>Cholesterol</th>\n",
       "      <th>Height (cm)</th>\n",
       "      <th>Weight (kg)</th>\n",
       "      <th>BMI</th>\n",
       "      <th>Smoker</th>\n",
       "      <th>Diabetes</th>\n",
       "      <th>Health</th>\n",
       "    </tr>\n",
       "  </thead>\n",
       "  <tbody>\n",
       "    <tr>\n",
       "      <th>0</th>\n",
       "      <td>Heidi Williamson</td>\n",
       "      <td>Male</td>\n",
       "      <td>35</td>\n",
       "      <td>129</td>\n",
       "      <td>83</td>\n",
       "      <td>188</td>\n",
       "      <td>169.072096</td>\n",
       "      <td>73.796178</td>\n",
       "      <td>25.816062</td>\n",
       "      <td>False</td>\n",
       "      <td>True</td>\n",
       "      <td>Fair</td>\n",
       "    </tr>\n",
       "    <tr>\n",
       "      <th>1</th>\n",
       "      <td>Eric Odom</td>\n",
       "      <td>Male</td>\n",
       "      <td>70</td>\n",
       "      <td>133</td>\n",
       "      <td>95</td>\n",
       "      <td>224</td>\n",
       "      <td>154.188611</td>\n",
       "      <td>70.671522</td>\n",
       "      <td>29.726232</td>\n",
       "      <td>False</td>\n",
       "      <td>False</td>\n",
       "      <td>Fair</td>\n",
       "    </tr>\n",
       "    <tr>\n",
       "      <th>2</th>\n",
       "      <td>Kelly Thomas</td>\n",
       "      <td>Male</td>\n",
       "      <td>79</td>\n",
       "      <td>149</td>\n",
       "      <td>88</td>\n",
       "      <td>179</td>\n",
       "      <td>197.514897</td>\n",
       "      <td>97.590268</td>\n",
       "      <td>25.015362</td>\n",
       "      <td>True</td>\n",
       "      <td>True</td>\n",
       "      <td>Bad</td>\n",
       "    </tr>\n",
       "  </tbody>\n",
       "</table>\n",
       "</div>"
      ],
      "text/plain": [
       "               Name Gender  Age  Systolic BP  Diastolic BP  Cholesterol  \\\n",
       "0  Heidi Williamson   Male   35          129            83          188   \n",
       "1         Eric Odom   Male   70          133            95          224   \n",
       "2      Kelly Thomas   Male   79          149            88          179   \n",
       "\n",
       "   Height (cm)  Weight (kg)        BMI  Smoker  Diabetes Health  \n",
       "0   169.072096    73.796178  25.816062   False      True   Fair  \n",
       "1   154.188611    70.671522  29.726232   False     False   Fair  \n",
       "2   197.514897    97.590268  25.015362    True      True    Bad  "
      ]
     },
     "execution_count": 5,
     "metadata": {},
     "output_type": "execute_result"
    }
   ],
   "source": [
    "dataset.head(3)"
   ]
  },
  {
   "cell_type": "code",
   "execution_count": 6,
   "id": "d1302566-032a-4491-92aa-72ecb421ca5f",
   "metadata": {},
   "outputs": [
    {
     "name": "stdout",
     "output_type": "stream",
     "text": [
      "<class 'pandas.core.frame.DataFrame'>\n",
      "RangeIndex: 1000 entries, 0 to 999\n",
      "Data columns (total 12 columns):\n",
      " #   Column        Non-Null Count  Dtype  \n",
      "---  ------        --------------  -----  \n",
      " 0   Name          1000 non-null   object \n",
      " 1   Gender        1000 non-null   object \n",
      " 2   Age           1000 non-null   int64  \n",
      " 3   Systolic BP   1000 non-null   int64  \n",
      " 4   Diastolic BP  1000 non-null   int64  \n",
      " 5   Cholesterol   1000 non-null   int64  \n",
      " 6   Height (cm)   1000 non-null   float64\n",
      " 7   Weight (kg)   1000 non-null   float64\n",
      " 8   BMI           1000 non-null   float64\n",
      " 9   Smoker        1000 non-null   bool   \n",
      " 10  Diabetes      1000 non-null   bool   \n",
      " 11  Health        1000 non-null   object \n",
      "dtypes: bool(2), float64(3), int64(4), object(3)\n",
      "memory usage: 80.2+ KB\n"
     ]
    }
   ],
   "source": [
    "dataset.info()"
   ]
  },
  {
   "cell_type": "code",
   "execution_count": 7,
   "id": "e380984d-2022-42dc-ac47-1f2e440ff205",
   "metadata": {},
   "outputs": [],
   "source": [
    "# Removing Name Feature"
   ]
  },
  {
   "cell_type": "code",
   "execution_count": 8,
   "id": "3f44e4d6-082a-4dad-9a82-3f1c347c590b",
   "metadata": {},
   "outputs": [],
   "source": [
    "dataset.drop(columns=[\"Name\"],inplace=True)"
   ]
  },
  {
   "cell_type": "code",
   "execution_count": 9,
   "id": "ef74c3bd-3fe2-493e-9494-3ddb22a934a2",
   "metadata": {},
   "outputs": [
    {
     "data": {
      "text/html": [
       "<div>\n",
       "<style scoped>\n",
       "    .dataframe tbody tr th:only-of-type {\n",
       "        vertical-align: middle;\n",
       "    }\n",
       "\n",
       "    .dataframe tbody tr th {\n",
       "        vertical-align: top;\n",
       "    }\n",
       "\n",
       "    .dataframe thead th {\n",
       "        text-align: right;\n",
       "    }\n",
       "</style>\n",
       "<table border=\"1\" class=\"dataframe\">\n",
       "  <thead>\n",
       "    <tr style=\"text-align: right;\">\n",
       "      <th></th>\n",
       "      <th>Age</th>\n",
       "      <th>Systolic BP</th>\n",
       "      <th>Diastolic BP</th>\n",
       "      <th>Cholesterol</th>\n",
       "      <th>Height (cm)</th>\n",
       "      <th>Weight (kg)</th>\n",
       "      <th>BMI</th>\n",
       "    </tr>\n",
       "  </thead>\n",
       "  <tbody>\n",
       "    <tr>\n",
       "      <th>count</th>\n",
       "      <td>1000.000000</td>\n",
       "      <td>1000.000000</td>\n",
       "      <td>1000.000000</td>\n",
       "      <td>1000.000000</td>\n",
       "      <td>1000.000000</td>\n",
       "      <td>1000.000000</td>\n",
       "      <td>1000.000000</td>\n",
       "    </tr>\n",
       "    <tr>\n",
       "      <th>mean</th>\n",
       "      <td>48.834000</td>\n",
       "      <td>129.526000</td>\n",
       "      <td>82.879000</td>\n",
       "      <td>187.715000</td>\n",
       "      <td>175.038446</td>\n",
       "      <td>74.941397</td>\n",
       "      <td>24.919168</td>\n",
       "    </tr>\n",
       "    <tr>\n",
       "      <th>std</th>\n",
       "      <td>17.980816</td>\n",
       "      <td>9.532061</td>\n",
       "      <td>6.064911</td>\n",
       "      <td>21.091387</td>\n",
       "      <td>14.395461</td>\n",
       "      <td>14.622998</td>\n",
       "      <td>6.290984</td>\n",
       "    </tr>\n",
       "    <tr>\n",
       "      <th>min</th>\n",
       "      <td>18.000000</td>\n",
       "      <td>105.000000</td>\n",
       "      <td>65.000000</td>\n",
       "      <td>140.000000</td>\n",
       "      <td>150.087644</td>\n",
       "      <td>50.011915</td>\n",
       "      <td>13.094723</td>\n",
       "    </tr>\n",
       "    <tr>\n",
       "      <th>25%</th>\n",
       "      <td>33.000000</td>\n",
       "      <td>123.000000</td>\n",
       "      <td>80.000000</td>\n",
       "      <td>172.000000</td>\n",
       "      <td>162.805812</td>\n",
       "      <td>62.264152</td>\n",
       "      <td>20.162104</td>\n",
       "    </tr>\n",
       "    <tr>\n",
       "      <th>50%</th>\n",
       "      <td>49.000000</td>\n",
       "      <td>130.000000</td>\n",
       "      <td>83.000000</td>\n",
       "      <td>187.000000</td>\n",
       "      <td>175.426060</td>\n",
       "      <td>74.808034</td>\n",
       "      <td>24.164326</td>\n",
       "    </tr>\n",
       "    <tr>\n",
       "      <th>75%</th>\n",
       "      <td>64.000000</td>\n",
       "      <td>136.000000</td>\n",
       "      <td>87.000000</td>\n",
       "      <td>203.000000</td>\n",
       "      <td>187.827352</td>\n",
       "      <td>87.518363</td>\n",
       "      <td>28.671465</td>\n",
       "    </tr>\n",
       "    <tr>\n",
       "      <th>max</th>\n",
       "      <td>80.000000</td>\n",
       "      <td>150.000000</td>\n",
       "      <td>95.000000</td>\n",
       "      <td>239.000000</td>\n",
       "      <td>199.966307</td>\n",
       "      <td>99.954932</td>\n",
       "      <td>43.806649</td>\n",
       "    </tr>\n",
       "  </tbody>\n",
       "</table>\n",
       "</div>"
      ],
      "text/plain": [
       "               Age  Systolic BP  Diastolic BP  Cholesterol  Height (cm)  \\\n",
       "count  1000.000000  1000.000000   1000.000000  1000.000000  1000.000000   \n",
       "mean     48.834000   129.526000     82.879000   187.715000   175.038446   \n",
       "std      17.980816     9.532061      6.064911    21.091387    14.395461   \n",
       "min      18.000000   105.000000     65.000000   140.000000   150.087644   \n",
       "25%      33.000000   123.000000     80.000000   172.000000   162.805812   \n",
       "50%      49.000000   130.000000     83.000000   187.000000   175.426060   \n",
       "75%      64.000000   136.000000     87.000000   203.000000   187.827352   \n",
       "max      80.000000   150.000000     95.000000   239.000000   199.966307   \n",
       "\n",
       "       Weight (kg)          BMI  \n",
       "count  1000.000000  1000.000000  \n",
       "mean     74.941397    24.919168  \n",
       "std      14.622998     6.290984  \n",
       "min      50.011915    13.094723  \n",
       "25%      62.264152    20.162104  \n",
       "50%      74.808034    24.164326  \n",
       "75%      87.518363    28.671465  \n",
       "max      99.954932    43.806649  "
      ]
     },
     "execution_count": 9,
     "metadata": {},
     "output_type": "execute_result"
    }
   ],
   "source": [
    "dataset.describe()"
   ]
  },
  {
   "cell_type": "markdown",
   "id": "3345a41d-2cf8-43a9-ac29-882b565897ff",
   "metadata": {},
   "source": [
    "# 1. Data Cleaning"
   ]
  },
  {
   "cell_type": "code",
   "execution_count": 10,
   "id": "12f54f99-4a93-4fb6-9ceb-4c3f66332277",
   "metadata": {},
   "outputs": [],
   "source": [
    "# Removing Duplicates Rows"
   ]
  },
  {
   "cell_type": "code",
   "execution_count": 11,
   "id": "96674ae0-b37d-4e03-acf7-1ef5be4a8d01",
   "metadata": {},
   "outputs": [
    {
     "data": {
      "text/plain": [
       "0"
      ]
     },
     "execution_count": 11,
     "metadata": {},
     "output_type": "execute_result"
    }
   ],
   "source": [
    "dataset.duplicated().sum()"
   ]
  },
  {
   "cell_type": "code",
   "execution_count": 12,
   "id": "c0c0c4d4-dd17-44d9-8afc-3a47a2564282",
   "metadata": {},
   "outputs": [
    {
     "data": {
      "text/plain": [
       "(1000, 11)"
      ]
     },
     "execution_count": 12,
     "metadata": {},
     "output_type": "execute_result"
    }
   ],
   "source": [
    "dataset.shape"
   ]
  },
  {
   "cell_type": "code",
   "execution_count": 13,
   "id": "1ce22b19-c94b-44f6-a6ed-a2baa5434b01",
   "metadata": {},
   "outputs": [
    {
     "data": {
      "text/html": [
       "<div>\n",
       "<style scoped>\n",
       "    .dataframe tbody tr th:only-of-type {\n",
       "        vertical-align: middle;\n",
       "    }\n",
       "\n",
       "    .dataframe tbody tr th {\n",
       "        vertical-align: top;\n",
       "    }\n",
       "\n",
       "    .dataframe thead th {\n",
       "        text-align: right;\n",
       "    }\n",
       "</style>\n",
       "<table border=\"1\" class=\"dataframe\">\n",
       "  <thead>\n",
       "    <tr style=\"text-align: right;\">\n",
       "      <th></th>\n",
       "      <th>Gender</th>\n",
       "      <th>Age</th>\n",
       "      <th>Systolic BP</th>\n",
       "      <th>Diastolic BP</th>\n",
       "      <th>Cholesterol</th>\n",
       "      <th>Height (cm)</th>\n",
       "      <th>Weight (kg)</th>\n",
       "      <th>BMI</th>\n",
       "      <th>Smoker</th>\n",
       "      <th>Diabetes</th>\n",
       "      <th>Health</th>\n",
       "    </tr>\n",
       "  </thead>\n",
       "  <tbody>\n",
       "    <tr>\n",
       "      <th>0</th>\n",
       "      <td>Male</td>\n",
       "      <td>35</td>\n",
       "      <td>129</td>\n",
       "      <td>83</td>\n",
       "      <td>188</td>\n",
       "      <td>169.072096</td>\n",
       "      <td>73.796178</td>\n",
       "      <td>25.816062</td>\n",
       "      <td>False</td>\n",
       "      <td>True</td>\n",
       "      <td>Fair</td>\n",
       "    </tr>\n",
       "    <tr>\n",
       "      <th>1</th>\n",
       "      <td>Male</td>\n",
       "      <td>70</td>\n",
       "      <td>133</td>\n",
       "      <td>95</td>\n",
       "      <td>224</td>\n",
       "      <td>154.188611</td>\n",
       "      <td>70.671522</td>\n",
       "      <td>29.726232</td>\n",
       "      <td>False</td>\n",
       "      <td>False</td>\n",
       "      <td>Fair</td>\n",
       "    </tr>\n",
       "    <tr>\n",
       "      <th>2</th>\n",
       "      <td>Male</td>\n",
       "      <td>79</td>\n",
       "      <td>149</td>\n",
       "      <td>88</td>\n",
       "      <td>179</td>\n",
       "      <td>197.514897</td>\n",
       "      <td>97.590268</td>\n",
       "      <td>25.015362</td>\n",
       "      <td>True</td>\n",
       "      <td>True</td>\n",
       "      <td>Bad</td>\n",
       "    </tr>\n",
       "    <tr>\n",
       "      <th>3</th>\n",
       "      <td>Female</td>\n",
       "      <td>52</td>\n",
       "      <td>115</td>\n",
       "      <td>76</td>\n",
       "      <td>204</td>\n",
       "      <td>157.223771</td>\n",
       "      <td>82.202776</td>\n",
       "      <td>33.254473</td>\n",
       "      <td>False</td>\n",
       "      <td>False</td>\n",
       "      <td>Fair</td>\n",
       "    </tr>\n",
       "    <tr>\n",
       "      <th>4</th>\n",
       "      <td>Male</td>\n",
       "      <td>51</td>\n",
       "      <td>135</td>\n",
       "      <td>82</td>\n",
       "      <td>201</td>\n",
       "      <td>177.370258</td>\n",
       "      <td>57.038726</td>\n",
       "      <td>18.130435</td>\n",
       "      <td>False</td>\n",
       "      <td>False</td>\n",
       "      <td>Fair</td>\n",
       "    </tr>\n",
       "    <tr>\n",
       "      <th>...</th>\n",
       "      <td>...</td>\n",
       "      <td>...</td>\n",
       "      <td>...</td>\n",
       "      <td>...</td>\n",
       "      <td>...</td>\n",
       "      <td>...</td>\n",
       "      <td>...</td>\n",
       "      <td>...</td>\n",
       "      <td>...</td>\n",
       "      <td>...</td>\n",
       "      <td>...</td>\n",
       "    </tr>\n",
       "    <tr>\n",
       "      <th>995</th>\n",
       "      <td>Female</td>\n",
       "      <td>33</td>\n",
       "      <td>119</td>\n",
       "      <td>79</td>\n",
       "      <td>157</td>\n",
       "      <td>189.907684</td>\n",
       "      <td>55.199601</td>\n",
       "      <td>15.305618</td>\n",
       "      <td>False</td>\n",
       "      <td>False</td>\n",
       "      <td>Good</td>\n",
       "    </tr>\n",
       "    <tr>\n",
       "      <th>996</th>\n",
       "      <td>Female</td>\n",
       "      <td>57</td>\n",
       "      <td>127</td>\n",
       "      <td>88</td>\n",
       "      <td>208</td>\n",
       "      <td>183.041461</td>\n",
       "      <td>52.775258</td>\n",
       "      <td>15.751844</td>\n",
       "      <td>False</td>\n",
       "      <td>False</td>\n",
       "      <td>Fair</td>\n",
       "    </tr>\n",
       "    <tr>\n",
       "      <th>997</th>\n",
       "      <td>Female</td>\n",
       "      <td>38</td>\n",
       "      <td>124</td>\n",
       "      <td>84</td>\n",
       "      <td>158</td>\n",
       "      <td>185.273872</td>\n",
       "      <td>65.673639</td>\n",
       "      <td>19.132104</td>\n",
       "      <td>False</td>\n",
       "      <td>True</td>\n",
       "      <td>Fair</td>\n",
       "    </tr>\n",
       "    <tr>\n",
       "      <th>998</th>\n",
       "      <td>Female</td>\n",
       "      <td>67</td>\n",
       "      <td>129</td>\n",
       "      <td>84</td>\n",
       "      <td>181</td>\n",
       "      <td>152.360401</td>\n",
       "      <td>83.614972</td>\n",
       "      <td>36.019679</td>\n",
       "      <td>False</td>\n",
       "      <td>True</td>\n",
       "      <td>Fair</td>\n",
       "    </tr>\n",
       "    <tr>\n",
       "      <th>999</th>\n",
       "      <td>Female</td>\n",
       "      <td>40</td>\n",
       "      <td>126</td>\n",
       "      <td>76</td>\n",
       "      <td>191</td>\n",
       "      <td>163.101830</td>\n",
       "      <td>74.999594</td>\n",
       "      <td>28.192997</td>\n",
       "      <td>False</td>\n",
       "      <td>True</td>\n",
       "      <td>Fair</td>\n",
       "    </tr>\n",
       "  </tbody>\n",
       "</table>\n",
       "<p>1000 rows × 11 columns</p>\n",
       "</div>"
      ],
      "text/plain": [
       "     Gender  Age  Systolic BP  Diastolic BP  Cholesterol  Height (cm)  \\\n",
       "0      Male   35          129            83          188   169.072096   \n",
       "1      Male   70          133            95          224   154.188611   \n",
       "2      Male   79          149            88          179   197.514897   \n",
       "3    Female   52          115            76          204   157.223771   \n",
       "4      Male   51          135            82          201   177.370258   \n",
       "..      ...  ...          ...           ...          ...          ...   \n",
       "995  Female   33          119            79          157   189.907684   \n",
       "996  Female   57          127            88          208   183.041461   \n",
       "997  Female   38          124            84          158   185.273872   \n",
       "998  Female   67          129            84          181   152.360401   \n",
       "999  Female   40          126            76          191   163.101830   \n",
       "\n",
       "     Weight (kg)        BMI  Smoker  Diabetes Health  \n",
       "0      73.796178  25.816062   False      True   Fair  \n",
       "1      70.671522  29.726232   False     False   Fair  \n",
       "2      97.590268  25.015362    True      True    Bad  \n",
       "3      82.202776  33.254473   False     False   Fair  \n",
       "4      57.038726  18.130435   False     False   Fair  \n",
       "..           ...        ...     ...       ...    ...  \n",
       "995    55.199601  15.305618   False     False   Good  \n",
       "996    52.775258  15.751844   False     False   Fair  \n",
       "997    65.673639  19.132104   False      True   Fair  \n",
       "998    83.614972  36.019679   False      True   Fair  \n",
       "999    74.999594  28.192997   False      True   Fair  \n",
       "\n",
       "[1000 rows x 11 columns]"
      ]
     },
     "execution_count": 13,
     "metadata": {},
     "output_type": "execute_result"
    }
   ],
   "source": [
    "dataset.drop_duplicates()"
   ]
  },
  {
   "cell_type": "code",
   "execution_count": 14,
   "id": "57493ac1-2148-479a-a7c6-05c62fcce103",
   "metadata": {},
   "outputs": [],
   "source": [
    "# Handling Missing values"
   ]
  },
  {
   "cell_type": "code",
   "execution_count": 15,
   "id": "ee576c90-ea12-4f00-8744-6c4d69054c6c",
   "metadata": {},
   "outputs": [
    {
     "data": {
      "text/plain": [
       "Gender          0\n",
       "Age             0\n",
       "Systolic BP     0\n",
       "Diastolic BP    0\n",
       "Cholesterol     0\n",
       "Height (cm)     0\n",
       "Weight (kg)     0\n",
       "BMI             0\n",
       "Smoker          0\n",
       "Diabetes        0\n",
       "Health          0\n",
       "dtype: int64"
      ]
     },
     "execution_count": 15,
     "metadata": {},
     "output_type": "execute_result"
    }
   ],
   "source": [
    "dataset.isnull().sum()"
   ]
  },
  {
   "cell_type": "code",
   "execution_count": 16,
   "id": "ba42e848-6a36-4cde-ba88-244fd4f78be4",
   "metadata": {},
   "outputs": [],
   "source": [
    "# Removing Outliers"
   ]
  },
  {
   "cell_type": "code",
   "execution_count": 17,
   "id": "b20a7454-e30a-460e-9ca3-61857fc2a4d0",
   "metadata": {},
   "outputs": [
    {
     "data": {
      "image/png": "[encoded data removed]",
      "text/plain": [
       "<Figure size 640x480 with 1 Axes>"
      ]
     },
     "metadata": {},
     "output_type": "display_data"
    }
   ],
   "source": [
    "sns.boxplot(data=dataset[[\"Systolic BP\",\"Diastolic BP\",\"Cholesterol\",\"Height (cm)\",\"Weight (kg)\"]])\n",
    "plt.title(\"Boxplot of Key Features\")\n",
    "plt.show()"
   ]
  },
  {
   "cell_type": "code",
   "execution_count": 18,
   "id": "9fbd94e9-6ba2-468c-9c5b-29a5a670f6dc",
   "metadata": {},
   "outputs": [
    {
     "name": "stdout",
     "output_type": "stream",
     "text": [
      "✅ Diastolic BP capped & log-transformed (replaced original column)\n"
     ]
    }
   ],
   "source": [
    "q1 = dataset[\"Diastolic BP\"].quantile(0.25)\n",
    "q3 = dataset[\"Diastolic BP\"].quantile(0.75)\n",
    "\n",
    "IQR = q3 - q1\n",
    "\n",
    "min_range = q1 - (1.5 * IQR)\n",
    "max_range = q3 + (1.5 * IQR)\n",
    "\n",
    "dataset[\"Diastolic BP\"] = np.where(dataset[\"Diastolic BP\"] > min_range , dataset[\"Diastolic BP\"] , min_range)\n",
    "dataset[\"Diastolic BP\"] = np.where(dataset[\"Diastolic BP\"] < max_range , dataset[\"Diastolic BP\"] ,max_range)\n",
    "dataset[\"Diastolic BP\"] = np.log1p(dataset[\"Diastolic BP\"])\n",
    "print(f\"✅ Diastolic BP capped & log-transformed (replaced original column)\")"
   ]
  },
  {
   "cell_type": "code",
   "execution_count": 19,
   "id": "309c4ff3-5194-4c1e-a865-cfce38764170",
   "metadata": {},
   "outputs": [],
   "source": [
    "# Spliting The data into train and test"
   ]
  },
  {
   "cell_type": "code",
   "execution_count": 20,
   "id": "a509cb3a-d32e-44b9-83d9-a867816f2810",
   "metadata": {},
   "outputs": [],
   "source": [
    "x = dataset.iloc[:,:-1]\n",
    "y = dataset[\"Health\"]"
   ]
  },
  {
   "cell_type": "code",
   "execution_count": 21,
   "id": "e5c09765-f52d-4ab2-a60f-2cd88aeeb602",
   "metadata": {},
   "outputs": [],
   "source": [
    "X_train , X_test , Y_train , Y_test = train_test_split(x  , y , test_size=0.2 , random_state=42 )"
   ]
  },
  {
   "cell_type": "code",
   "execution_count": 22,
   "id": "dfed67e4-b1d2-4a26-b4dc-dc9bba430fb3",
   "metadata": {},
   "outputs": [],
   "source": [
    "# Encoding Chategorical Data"
   ]
  },
  {
   "cell_type": "code",
   "execution_count": 23,
   "id": "616b7008-3b35-4535-9ec3-980e27a88ef3",
   "metadata": {},
   "outputs": [],
   "source": [
    "# Nominal for TRUE OR FALSE | 0 OR 1"
   ]
  },
  {
   "cell_type": "code",
   "execution_count": 24,
   "id": "d8d1a237-fa62-48df-947c-bb07f29fb235",
   "metadata": {},
   "outputs": [],
   "source": [
    "nominal_columns = ['Gender', 'Smoker', 'Diabetes']"
   ]
  },
  {
   "cell_type": "code",
   "execution_count": 25,
   "id": "933871b6-0b8c-476b-95d1-543f6844db94",
   "metadata": {},
   "outputs": [],
   "source": [
    "onehot_encoder = OneHotEncoder(drop='first',sparse_output=False)"
   ]
  },
  {
   "cell_type": "code",
   "execution_count": 26,
   "id": "25bcf45a-3d5e-43e9-81ee-c1290150f97c",
   "metadata": {},
   "outputs": [],
   "source": [
    "x_train_ohe = onehot_encoder.fit_transform(X_train[nominal_columns])\n",
    "x_test_ohe = onehot_encoder.transform(X_test[nominal_columns])"
   ]
  },
  {
   "cell_type": "code",
   "execution_count": 27,
   "id": "f88445eb-aa13-4652-a054-5475eb6186c7",
   "metadata": {},
   "outputs": [],
   "source": [
    "x_train_df = pd.DataFrame(x_train_ohe , columns=onehot_encoder.get_feature_names_out(nominal_columns),index=X_train.index)\n",
    "x_test_df = pd.DataFrame(x_test_ohe, columns=onehot_encoder.get_feature_names_out(nominal_columns),index=X_test.index)"
   ]
  },
  {
   "cell_type": "code",
   "execution_count": 28,
   "id": "d7693dc0-8ecb-49f9-8c95-1a9c3c0622fe",
   "metadata": {},
   "outputs": [],
   "source": [
    "x_train = pd.concat([X_train.drop(nominal_columns,axis=1),x_train_df], axis=1)\n",
    "x_test = pd.concat([X_test.drop(nominal_columns,axis=1),x_test_df], axis=1)"
   ]
  },
  {
   "cell_type": "code",
   "execution_count": 29,
   "id": "384df610-ea99-4752-8715-17cb7753dcfc",
   "metadata": {},
   "outputs": [],
   "source": [
    "# Scaling Numeric Data"
   ]
  },
  {
   "cell_type": "code",
   "execution_count": 30,
   "id": "c7a3dc10-510c-4eea-b141-c31830a965f9",
   "metadata": {},
   "outputs": [],
   "source": [
    "numeric_col = dataset.select_dtypes(include=[\"int64\",\"float64\"]).columns\n",
    "scalar = StandardScaler()\n",
    "x_train[numeric_col] = scalar.fit_transform(x_train[numeric_col])\n",
    "x_test[numeric_col] = scalar.transform(x_test[numeric_col])"
   ]
  },
  {
   "cell_type": "code",
   "execution_count": 31,
   "id": "83a661dc-c9ee-4341-bf37-77a37a325eee",
   "metadata": {},
   "outputs": [],
   "source": [
    "# Encoding Output Features"
   ]
  },
  {
   "cell_type": "code",
   "execution_count": 32,
   "id": "6b38a00b-a7e0-477d-a5cb-b9850978c2aa",
   "metadata": {},
   "outputs": [],
   "source": [
    "label_encoder = LabelEncoder() "
   ]
  },
  {
   "cell_type": "code",
   "execution_count": 33,
   "id": "9e7adcce-7af6-4329-bfcb-e2cd391aa525",
   "metadata": {},
   "outputs": [],
   "source": [
    "y_train = label_encoder.fit_transform(Y_train)\n",
    "y_test = label_encoder.transform(Y_test)"
   ]
  },
  {
   "cell_type": "markdown",
   "id": "804289cc-c4ed-4e54-955c-2a6396c94789",
   "metadata": {},
   "source": [
    "# 2. Data Visualization (using Python: pandas, matplotlib, seaborn)"
   ]
  },
  {
   "cell_type": "code",
   "execution_count": 34,
   "id": "2daaec87-4801-47e4-a42c-fa8d6d115a51",
   "metadata": {},
   "outputs": [],
   "source": [
    "# --- 1. Distribution of Health Status ---"
   ]
  },
  {
   "cell_type": "code",
   "execution_count": 35,
   "id": "6c9c7f88-c027-4c5a-a7fc-0574cd288b16",
   "metadata": {},
   "outputs": [
    {
     "name": "stderr",
     "output_type": "stream",
     "text": [
      "C:\\Users\\siddi\\AppData\\Local\\Temp\\ipykernel_23580\\1951895454.py:2: FutureWarning: \n",
      "\n",
      "Passing `palette` without assigning `hue` is deprecated and will be removed in v0.14.0. Assign the `x` variable to `hue` and set `legend=False` for the same effect.\n",
      "\n",
      "  sns.countplot(x=\"Health\", data=dataset, palette='Set2')\n"
     ]
    },
    {
     "data": {
      "image/png": "[encoded data removed]",
      "text/plain": [
       "<Figure size 600x400 with 1 Axes>"
      ]
     },
     "metadata": {},
     "output_type": "display_data"
    }
   ],
   "source": [
    "plt.figure(figsize=(6,4))\n",
    "sns.countplot(x=\"Health\", data=dataset, palette='Set2')\n",
    "plt.title(\"Health Status Distribution\")\n",
    "plt.show()"
   ]
  },
  {
   "cell_type": "code",
   "execution_count": 36,
   "id": "b7831da1-41ed-408c-9dc9-547ab2f8f6f5",
   "metadata": {},
   "outputs": [],
   "source": [
    "# --- 2. Age Distribution by Health ---"
   ]
  },
  {
   "cell_type": "code",
   "execution_count": 37,
   "id": "f1f73051-f15f-47bc-9dc7-13a6d0731b31",
   "metadata": {},
   "outputs": [
    {
     "data": {
      "image/png": "[encoded data removed]",
      "text/plain": [
       "<Figure size 800x500 with 1 Axes>"
      ]
     },
     "metadata": {},
     "output_type": "display_data"
    }
   ],
   "source": [
    "plt.figure(figsize=(8,5))\n",
    "sns.histplot(data=dataset, x=\"Age\", hue=\"Health\", multiple=\"stack\", bins=20, palette=\"Set1\")\n",
    "plt.title(\"Age Distribution by Health Status\")\n",
    "plt.show()"
   ]
  },
  {
   "cell_type": "code",
   "execution_count": 38,
   "id": "361384c1-d4dd-4dd1-8b70-2301a3222024",
   "metadata": {},
   "outputs": [],
   "source": [
    "# --- 3. Boxplot: BMI vs Health ---"
   ]
  },
  {
   "cell_type": "code",
   "execution_count": 39,
   "id": "7e45362b-30c8-4390-bc12-7d95b2c65f47",
   "metadata": {},
   "outputs": [
    {
     "name": "stderr",
     "output_type": "stream",
     "text": [
      "C:\\Users\\siddi\\AppData\\Local\\Temp\\ipykernel_23580\\171256511.py:2: FutureWarning: \n",
      "\n",
      "Passing `palette` without assigning `hue` is deprecated and will be removed in v0.14.0. Assign the `x` variable to `hue` and set `legend=False` for the same effect.\n",
      "\n",
      "  sns.boxplot(x=\"Health\", y=\"BMI\", data=dataset, palette=\"Set3\")\n"
     ]
    },
    {
     "data": {
      "image/png": "[encoded data removed]",
      "text/plain": [
       "<Figure size 700x500 with 1 Axes>"
      ]
     },
     "metadata": {},
     "output_type": "display_data"
    }
   ],
   "source": [
    "plt.figure(figsize=(7,5))\n",
    "sns.boxplot(x=\"Health\", y=\"BMI\", data=dataset, palette=\"Set3\")\n",
    "plt.title(\"BMI across Health Groups\")\n",
    "plt.show()"
   ]
  },
  {
   "cell_type": "code",
   "execution_count": 40,
   "id": "7b209bc8-2d7a-4e96-bd91-4b114b9082f9",
   "metadata": {},
   "outputs": [],
   "source": [
    "# --- 5. Smoking vs Health ---"
   ]
  },
  {
   "cell_type": "code",
   "execution_count": 41,
   "id": "8aae93de-5ac7-4316-8cd4-0c21e70c7ea2",
   "metadata": {},
   "outputs": [
    {
     "data": {
      "image/png": "[encoded data removed]",
      "text/plain": [
       "<Figure size 600x400 with 1 Axes>"
      ]
     },
     "metadata": {},
     "output_type": "display_data"
    }
   ],
   "source": [
    "plt.figure(figsize=(6,4))\n",
    "sns.countplot(x=\"Smoker\", hue=\"Health\", data=dataset, palette=\"Set1\")\n",
    "plt.title(\"Smoking Habit vs Health Status\")\n",
    "plt.show()"
   ]
  },
  {
   "cell_type": "code",
   "execution_count": 42,
   "id": "e81dd615-843e-407f-99d0-a9b755f13bee",
   "metadata": {},
   "outputs": [],
   "source": [
    "# --- 6. Diabetes vs Health ---"
   ]
  },
  {
   "cell_type": "code",
   "execution_count": 43,
   "id": "e9fcb6aa-6e82-4369-9afe-ed1a5b3caf0b",
   "metadata": {},
   "outputs": [
    {
     "data": {
      "image/png": "[encoded data removed]",
      "text/plain": [
       "<Figure size 600x400 with 1 Axes>"
      ]
     },
     "metadata": {},
     "output_type": "display_data"
    }
   ],
   "source": [
    "plt.figure(figsize=(6,4))\n",
    "sns.countplot(x=\"Diabetes\", hue=\"Health\", data=dataset, palette=\"Set2\")\n",
    "plt.title(\"Diabetes vs Health Status\")\n",
    "plt.show()"
   ]
  },
  {
   "cell_type": "code",
   "execution_count": 44,
   "id": "e47c31da-ec51-4850-96a9-73dc21708ce3",
   "metadata": {},
   "outputs": [],
   "source": [
    "# --- 7. Correlation Heatmap (Numerical Features) ---"
   ]
  },
  {
   "cell_type": "code",
   "execution_count": 45,
   "id": "7e48f32d-3f46-4f66-9e71-2d6225049362",
   "metadata": {},
   "outputs": [
    {
     "data": {
      "image/png": "[encoded data removed]",
      "text/plain": [
       "<Figure size 1000x600 with 2 Axes>"
      ]
     },
     "metadata": {},
     "output_type": "display_data"
    }
   ],
   "source": [
    "plt.figure(figsize=(10,6))\n",
    "numeric_cols = [\"Age\", \"Systolic BP\", \"Diastolic BP\", \"Cholesterol\", \"Height (cm)\", \"Weight (kg)\", \"BMI\"]\n",
    "sns.heatmap(dataset[numeric_cols].corr(), annot=True, cmap=\"coolwarm\", fmt=\".2f\")\n",
    "plt.title(\"Correlation Heatmap of Health Indicators\")\n",
    "plt.show()"
   ]
  },
  {
   "cell_type": "markdown",
   "id": "fabce9f9-c989-45b7-9236-7c8d6550e58f",
   "metadata": {},
   "source": [
    "# 3. Statistical Analysis"
   ]
  },
  {
   "cell_type": "code",
   "execution_count": 46,
   "id": "f3310da4-4b7a-461d-8b89-d0679de0518b",
   "metadata": {},
   "outputs": [],
   "source": [
    "# Descriptive Statistics"
   ]
  },
  {
   "cell_type": "code",
   "execution_count": 47,
   "id": "79406add-4d34-4f50-86ee-e0b5fd07b752",
   "metadata": {},
   "outputs": [
    {
     "name": "stdout",
     "output_type": "stream",
     "text": [
      "\n",
      "Descriptive Statistics :\n",
      "\n"
     ]
    },
    {
     "data": {
      "text/html": [
       "<div>\n",
       "<style scoped>\n",
       "    .dataframe tbody tr th:only-of-type {\n",
       "        vertical-align: middle;\n",
       "    }\n",
       "\n",
       "    .dataframe tbody tr th {\n",
       "        vertical-align: top;\n",
       "    }\n",
       "\n",
       "    .dataframe thead th {\n",
       "        text-align: right;\n",
       "    }\n",
       "</style>\n",
       "<table border=\"1\" class=\"dataframe\">\n",
       "  <thead>\n",
       "    <tr style=\"text-align: right;\">\n",
       "      <th></th>\n",
       "      <th>Age</th>\n",
       "      <th>Systolic BP</th>\n",
       "      <th>Diastolic BP</th>\n",
       "      <th>Cholesterol</th>\n",
       "      <th>Height (cm)</th>\n",
       "      <th>Weight (kg)</th>\n",
       "      <th>BMI</th>\n",
       "    </tr>\n",
       "  </thead>\n",
       "  <tbody>\n",
       "    <tr>\n",
       "      <th>count</th>\n",
       "      <td>1000.000000</td>\n",
       "      <td>1000.000000</td>\n",
       "      <td>1000.000000</td>\n",
       "      <td>1000.000000</td>\n",
       "      <td>1000.000000</td>\n",
       "      <td>1000.000000</td>\n",
       "      <td>1000.000000</td>\n",
       "    </tr>\n",
       "    <tr>\n",
       "      <th>mean</th>\n",
       "      <td>48.834000</td>\n",
       "      <td>129.526000</td>\n",
       "      <td>4.427699</td>\n",
       "      <td>187.715000</td>\n",
       "      <td>175.038446</td>\n",
       "      <td>74.941397</td>\n",
       "      <td>24.919168</td>\n",
       "    </tr>\n",
       "    <tr>\n",
       "      <th>std</th>\n",
       "      <td>17.980816</td>\n",
       "      <td>9.532061</td>\n",
       "      <td>0.071309</td>\n",
       "      <td>21.091387</td>\n",
       "      <td>14.395461</td>\n",
       "      <td>14.622998</td>\n",
       "      <td>6.290984</td>\n",
       "    </tr>\n",
       "    <tr>\n",
       "      <th>min</th>\n",
       "      <td>18.000000</td>\n",
       "      <td>105.000000</td>\n",
       "      <td>4.255613</td>\n",
       "      <td>140.000000</td>\n",
       "      <td>150.087644</td>\n",
       "      <td>50.011915</td>\n",
       "      <td>13.094723</td>\n",
       "    </tr>\n",
       "    <tr>\n",
       "      <th>25%</th>\n",
       "      <td>33.000000</td>\n",
       "      <td>123.000000</td>\n",
       "      <td>4.394449</td>\n",
       "      <td>172.000000</td>\n",
       "      <td>162.805812</td>\n",
       "      <td>62.264152</td>\n",
       "      <td>20.162104</td>\n",
       "    </tr>\n",
       "    <tr>\n",
       "      <th>50%</th>\n",
       "      <td>49.000000</td>\n",
       "      <td>130.000000</td>\n",
       "      <td>4.430817</td>\n",
       "      <td>187.000000</td>\n",
       "      <td>175.426060</td>\n",
       "      <td>74.808034</td>\n",
       "      <td>24.164326</td>\n",
       "    </tr>\n",
       "    <tr>\n",
       "      <th>75%</th>\n",
       "      <td>64.000000</td>\n",
       "      <td>136.000000</td>\n",
       "      <td>4.477337</td>\n",
       "      <td>203.000000</td>\n",
       "      <td>187.827352</td>\n",
       "      <td>87.518363</td>\n",
       "      <td>28.671465</td>\n",
       "    </tr>\n",
       "    <tr>\n",
       "      <th>max</th>\n",
       "      <td>80.000000</td>\n",
       "      <td>150.000000</td>\n",
       "      <td>4.564348</td>\n",
       "      <td>239.000000</td>\n",
       "      <td>199.966307</td>\n",
       "      <td>99.954932</td>\n",
       "      <td>43.806649</td>\n",
       "    </tr>\n",
       "  </tbody>\n",
       "</table>\n",
       "</div>"
      ],
      "text/plain": [
       "               Age  Systolic BP  Diastolic BP  Cholesterol  Height (cm)  \\\n",
       "count  1000.000000  1000.000000   1000.000000  1000.000000  1000.000000   \n",
       "mean     48.834000   129.526000      4.427699   187.715000   175.038446   \n",
       "std      17.980816     9.532061      0.071309    21.091387    14.395461   \n",
       "min      18.000000   105.000000      4.255613   140.000000   150.087644   \n",
       "25%      33.000000   123.000000      4.394449   172.000000   162.805812   \n",
       "50%      49.000000   130.000000      4.430817   187.000000   175.426060   \n",
       "75%      64.000000   136.000000      4.477337   203.000000   187.827352   \n",
       "max      80.000000   150.000000      4.564348   239.000000   199.966307   \n",
       "\n",
       "       Weight (kg)          BMI  \n",
       "count  1000.000000  1000.000000  \n",
       "mean     74.941397    24.919168  \n",
       "std      14.622998     6.290984  \n",
       "min      50.011915    13.094723  \n",
       "25%      62.264152    20.162104  \n",
       "50%      74.808034    24.164326  \n",
       "75%      87.518363    28.671465  \n",
       "max      99.954932    43.806649  "
      ]
     },
     "execution_count": 47,
     "metadata": {},
     "output_type": "execute_result"
    }
   ],
   "source": [
    "print(\"\\nDescriptive Statistics :\\n\")\n",
    "dataset.describe()"
   ]
  },
  {
   "cell_type": "code",
   "execution_count": 48,
   "id": "fd19304d-92a5-45c1-96d7-47d52981bf34",
   "metadata": {},
   "outputs": [],
   "source": [
    "# frequency Count For each Chategorical Column"
   ]
  },
  {
   "cell_type": "code",
   "execution_count": 49,
   "id": "97742ae3-3e0c-4618-b6aa-060e49623a12",
   "metadata": {},
   "outputs": [
    {
     "name": "stdout",
     "output_type": "stream",
     "text": [
      "\n",
      "Frequency Count :\n",
      "\n"
     ]
    },
    {
     "data": {
      "text/plain": [
       "Gender  Smoker  Diabetes  Health\n",
       "Female  False   True      Fair      105\n",
       "Male    False   False     Fair      101\n",
       "        True    False     Fair       98\n",
       "Female  False   False     Fair       94\n",
       "Male    False   True      Fair       88\n",
       "Female  True    False     Fair       88\n",
       "                True      Bad        72\n",
       "Male    True    True      Bad        69\n",
       "Female  False   False     Good       50\n",
       "Male    True    True      Fair       48\n",
       "        False   False     Good       42\n",
       "Female  True    True      Fair       40\n",
       "Male    False   True      Bad        31\n",
       "        True    False     Bad        26\n",
       "Female  True    False     Bad        16\n",
       "        False   True      Bad        14\n",
       "                          Good       10\n",
       "        True    False     Good        5\n",
       "Male    False   True      Good        3\n",
       "Name: count, dtype: int64"
      ]
     },
     "execution_count": 49,
     "metadata": {},
     "output_type": "execute_result"
    }
   ],
   "source": [
    "print(\"\\nFrequency Count :\\n\")\n",
    "dataset[['Gender', 'Smoker', 'Diabetes', 'Health']].value_counts()"
   ]
  },
  {
   "cell_type": "markdown",
   "id": "b0f4744d-68a3-4e6e-95d6-03ea8467b184",
   "metadata": {},
   "source": [
    "# Model Prediction"
   ]
  },
  {
   "cell_type": "code",
   "execution_count": 50,
   "id": "3a892de7-37f4-4000-854b-51ce1d2c25a6",
   "metadata": {},
   "outputs": [],
   "source": [
    "# model Training"
   ]
  },
  {
   "cell_type": "code",
   "execution_count": 51,
   "id": "1df5c433-909f-41ac-a921-215d6e9878ff",
   "metadata": {},
   "outputs": [
    {
     "name": "stdout",
     "output_type": "stream",
     "text": [
      "{0: 182, 1: 525, 2: 93}\n"
     ]
    }
   ],
   "source": [
    "value , count = np.unique(y_train , return_counts=True)\n",
    "print(dict(zip(value , count)))"
   ]
  },
  {
   "cell_type": "code",
   "execution_count": 52,
   "id": "ec5c51d5-ee95-41cf-806a-4b02f51eee1a",
   "metadata": {},
   "outputs": [],
   "source": [
    "# Balancing the class distribution"
   ]
  },
  {
   "cell_type": "code",
   "execution_count": 53,
   "id": "c1fb1711-a831-4f71-b2d9-8d3decc20565",
   "metadata": {},
   "outputs": [],
   "source": [
    "sm = SMOTE(random_state=42)\n",
    "x_train_final , y_train_final = sm.fit_resample(x_train , y_train)"
   ]
  },
  {
   "cell_type": "code",
   "execution_count": 54,
   "id": "0f281c46-25a5-4366-b8f9-c35027438ba4",
   "metadata": {},
   "outputs": [
    {
     "name": "stdout",
     "output_type": "stream",
     "text": [
      "{0: 525, 1: 525, 2: 525}\n"
     ]
    }
   ],
   "source": [
    "value2 , count2 = np.unique(y_train_final , return_counts=True)\n",
    "print(dict(zip(value2 , count2)))"
   ]
  },
  {
   "cell_type": "code",
   "execution_count": 55,
   "id": "316a80cc-ac12-4b69-b6e9-a085c5ac4d6f",
   "metadata": {},
   "outputs": [
    {
     "name": "stdout",
     "output_type": "stream",
     "text": [
      "Before balancing The Class Distribution {0: 182, 1: 525, 2: 93}\n",
      "After balamcing The Class Distribution {0: 525, 1: 525, 2: 525}\n"
     ]
    }
   ],
   "source": [
    "print(f\"Before balancing The Class Distribution {dict(zip(value , count))}\")\n",
    "print(f\"After balamcing The Class Distribution {dict(zip(value2 , count2))}\")"
   ]
  },
  {
   "cell_type": "code",
   "execution_count": 56,
   "id": "19895ce6-8498-4943-9db8-29b33e965c18",
   "metadata": {},
   "outputs": [],
   "source": [
    "models = {\n",
    "\n",
    "    \"Logistic Regression\":LogisticRegression(),\n",
    "    \"SVC\":SVC(),\n",
    "    \"KNN\":KNeighborsClassifier(),\n",
    "    \"Decision Tree\":DecisionTreeClassifier(),\n",
    "    \"Random Forest\":RandomForestClassifier(),\n",
    "    \"XGBoost\":xgb.XGBClassifier(),\n",
    "    \"AdaBoost\":AdaBoostClassifier(),\n",
    "    \"GradientBoost\":GradientBoostingClassifier(),\n",
    "}"
   ]
  },
  {
   "cell_type": "code",
   "execution_count": 57,
   "id": "d8c11c33-8295-42f6-8e58-e0494301a740",
   "metadata": {},
   "outputs": [
    {
     "name": "stdout",
     "output_type": "stream",
     "text": [
      "Logistic Regression | Accuraccy Score :69.500\n",
      "Logistic Regression | Mean Accuracy Score : 81.841\n",
      "\n",
      "SVC | Accuraccy Score :83.500\n",
      "SVC | Mean Accuracy Score : 92.254\n",
      "\n",
      "KNN | Accuraccy Score :67.500\n",
      "KNN | Mean Accuracy Score : 84.127\n",
      "\n",
      "Decision Tree | Accuraccy Score :95.500\n",
      "Decision Tree | Mean Accuracy Score : 96.635\n",
      "\n",
      "Random Forest | Accuraccy Score :97.500\n",
      "Random Forest | Mean Accuracy Score : 97.905\n",
      "\n",
      "XGBoost | Accuraccy Score :98.000\n",
      "XGBoost | Mean Accuracy Score : 98.159\n",
      "\n",
      "AdaBoost | Accuraccy Score :92.000\n",
      "AdaBoost | Mean Accuracy Score : 77.079\n",
      "\n",
      "GradientBoost | Accuraccy Score :97.000\n",
      "GradientBoost | Mean Accuracy Score : 98.476\n",
      "\n"
     ]
    }
   ],
   "source": [
    "for name , model in models.items():\n",
    "    model.fit(x_train_final , y_train_final)\n",
    "    y_pred = model.predict(x_test)\n",
    "    print(f\"{name} | Accuraccy Score :{accuracy_score(y_test,y_pred)*100:.3f}\")\n",
    "    cv = StratifiedKFold(n_splits=5, random_state=42, shuffle=True)\n",
    "    scores = cross_val_score(model , x_train_final , y_train_final , cv=cv , scoring='accuracy')\n",
    "    print(f\"{name} | Mean Accuracy Score : {np.mean(scores)*100:.3f}\\n\")"
   ]
  },
  {
   "cell_type": "code",
   "execution_count": 58,
   "id": "1d8c23a8-0899-4add-874e-4c4e3337f5f0",
   "metadata": {},
   "outputs": [],
   "source": [
    "# Training Best Model"
   ]
  },
  {
   "cell_type": "code",
   "execution_count": 59,
   "id": "b4d1c52b-c474-43ef-96b1-35c727340532",
   "metadata": {},
   "outputs": [],
   "source": [
    "best_model = xgb.XGBClassifier(subsample= 0.6,\n",
    "                               reg_lambda = 2,\n",
    "                               reg_alpha = 0.01,\n",
    "                               n_estimators = 500,\n",
    "                               min_child_weight = 5,\n",
    "                               max_depth = 3,\n",
    "                               learning_rate = 0.05,\n",
    "                               gamma = 0.2,\n",
    "                               colsample_bytree = 1.0)"
   ]
  },
  {
   "cell_type": "code",
   "execution_count": 60,
   "id": "1e7228e5-31dc-41e5-a195-d291c70925dc",
   "metadata": {},
   "outputs": [],
   "source": [
    "best_model.fit(x_train_final , y_train_final)\n",
    "y_pred = best_model.predict(x_test)"
   ]
  },
  {
   "cell_type": "code",
   "execution_count": 61,
   "id": "56aa8dd4-267e-4ae0-94a4-d5b0f89752b6",
   "metadata": {},
   "outputs": [],
   "source": [
    "# Model Evaluation"
   ]
  },
  {
   "cell_type": "code",
   "execution_count": 62,
   "id": "7cc7983a-38a0-4df3-b407-d8434d27a3d5",
   "metadata": {},
   "outputs": [
    {
     "name": "stdout",
     "output_type": "stream",
     "text": [
      "Training Score :  99.93650793650794\n",
      "Testing Score :  98.5\n",
      "Accuracy Score : 98.5\n",
      "Recall Score : 97.434\n",
      "Precsion Score : 95.835\n",
      "F1 Score : 96.606\n"
     ]
    }
   ],
   "source": [
    "print(\"Training Score : \",best_model.score(x_train_final , y_train_final)*100)\n",
    "print(\"Testing Score : \",best_model.score(x_test , y_test)*100)\n",
    "print(\"Accuracy Score :\",accuracy_score(y_pred,y_test)*100)\n",
    "print(\"Recall Score :\",round(recall_score(y_pred,y_test,average='macro')*100,3))\n",
    "print(\"Precsion Score :\",round(precision_score(y_pred,y_test, average='macro')*100,3))\n",
    "print(\"F1 Score :\",round(f1_score(y_pred,y_test, average='macro')*100,3))"
   ]
  },
  {
   "cell_type": "code",
   "execution_count": 63,
   "id": "72f4ff1f-c9c0-4a7a-9daa-91c883724ca1",
   "metadata": {},
   "outputs": [],
   "source": [
    "# Confusion Matrix"
   ]
  },
  {
   "cell_type": "code",
   "execution_count": 64,
   "id": "2aff2e4e-8548-4a2f-a05b-da9eea256a11",
   "metadata": {},
   "outputs": [
    {
     "data": {
      "image/png": "[encoded data removed]",
      "text/plain": [
       "<Figure size 640x480 with 2 Axes>"
      ]
     },
     "metadata": {},
     "output_type": "display_data"
    }
   ],
   "source": [
    "cm = confusion_matrix(y_test , y_pred)\n",
    "sns.heatmap(data=cm,annot=True,fmt='g')\n",
    "plt.xlabel(\"Predicted\")\n",
    "plt.ylabel(\"Actual\")\n",
    "plt.show()"
   ]
  },
  {
   "cell_type": "code",
   "execution_count": 65,
   "id": "4c13bb67-ef77-44e7-a952-e040390a2111",
   "metadata": {},
   "outputs": [],
   "source": [
    "# Detailed Report"
   ]
  },
  {
   "cell_type": "code",
   "execution_count": 66,
   "id": "97143e3b-660c-400c-9d23-f12fd1fa4440",
   "metadata": {},
   "outputs": [
    {
     "name": "stdout",
     "output_type": "stream",
     "text": [
      "              precision    recall  f1-score   support\n",
      "\n",
      "           0       1.00      1.00      1.00        46\n",
      "           1       0.99      0.99      0.99       137\n",
      "           2       0.94      0.88      0.91        17\n",
      "\n",
      "    accuracy                           0.98       200\n",
      "   macro avg       0.97      0.96      0.97       200\n",
      "weighted avg       0.98      0.98      0.98       200\n",
      "\n"
     ]
    }
   ],
   "source": [
    "print(classification_report(y_test,y_pred))"
   ]
  },
  {
   "cell_type": "code",
   "execution_count": 67,
   "id": "d892b480-7e99-49f1-897b-59cbda2fdfbc",
   "metadata": {},
   "outputs": [],
   "source": [
    "# Hyper Parameter Tuning"
   ]
  },
  {
   "cell_type": "code",
   "execution_count": 68,
   "id": "c1170e3d-d4c8-4aa9-bea7-e2862b941c7a",
   "metadata": {},
   "outputs": [],
   "source": [
    "param_dist = {\n",
    "    'n_estimators': [100, 200, 300, 400, 500],\n",
    "    'max_depth': [3, 4, 5, 6, 7],\n",
    "    'learning_rate': [0.01, 0.05, 0.1, 0.2],\n",
    "    'subsample': [0.6, 0.7, 0.8, 0.9, 1.0],\n",
    "    'colsample_bytree': [0.6, 0.7, 0.8, 0.9, 1.0],\n",
    "    'gamma': [0, 0.1, 0.2, 0.3],\n",
    "    'min_child_weight': [1, 3, 5],\n",
    "    'reg_alpha': [0, 0.01, 0.1, 1],\n",
    "    'reg_lambda': [1, 1.5, 2]\n",
    "}"
   ]
  },
  {
   "cell_type": "code",
   "execution_count": 69,
   "id": "6d1d868b-df55-4611-9f8c-344805d79581",
   "metadata": {},
   "outputs": [],
   "source": [
    "# random_search = RandomizedSearchCV(\n",
    "#     estimator=best_model,\n",
    "#     param_distributions=param_dist,\n",
    "#     n_iter=50,             # number of random combinations to try\n",
    "#     scoring='accuracy',\n",
    "#     cv=5,\n",
    "#     verbose=2,\n",
    "#     n_jobs=-1,\n",
    "#     random_state=42\n",
    "# )\n",
    "\n",
    "# random_search.fit(x_train_final, y_train_final)"
   ]
  },
  {
   "cell_type": "code",
   "execution_count": 70,
   "id": "04ce4bc6-01c4-4235-8a60-b6127dfd5b4d",
   "metadata": {},
   "outputs": [],
   "source": [
    "# print(\"Best parameters:\", random_search.best_params_)\n",
    "# print(\"Best score:\", random_search.best_score_)"
   ]
  },
  {
   "cell_type": "code",
   "execution_count": 71,
   "id": "cf13a0c3-17fa-42a8-9f2d-03565bf8e1c5",
   "metadata": {},
   "outputs": [],
   "source": [
    "# Final Model Training And Evaluation"
   ]
  },
  {
   "cell_type": "code",
   "execution_count": 72,
   "id": "4735d6a6-6a46-40dc-b6bb-37087a158092",
   "metadata": {},
   "outputs": [],
   "source": [
    "final_model = best_model = xgb.XGBClassifier(subsample= 0.6,\n",
    "                               reg_lambda = 2,\n",
    "                               reg_alpha = 0.01,\n",
    "                               n_estimators = 500,\n",
    "                               min_child_weight = 5,\n",
    "                               max_depth = 3,\n",
    "                               learning_rate = 0.05,\n",
    "                               gamma = 0.2,\n",
    "                               colsample_bytree = 1.0)\n"
   ]
  },
  {
   "cell_type": "code",
   "execution_count": 73,
   "id": "36e9e8c6-6b99-46ba-a42c-ebfaab412fd7",
   "metadata": {},
   "outputs": [],
   "source": [
    "final_model.fit(x_train_final , y_train_final)\n",
    "y_pred = final_model.predict(x_test)"
   ]
  },
  {
   "cell_type": "code",
   "execution_count": 80,
   "id": "4277af2b-9763-4e53-9d72-ba7c868e5ea6",
   "metadata": {},
   "outputs": [
    {
     "name": "stdout",
     "output_type": "stream",
     "text": [
      "Accuracy Of Final Model : 98.5%\n",
      "F1 Score Of Final Model : 96.61%\n"
     ]
    }
   ],
   "source": [
    "print(f\"Accuracy Of Final Model : {accuracy_score(y_pred , y_test)*100}%\")\n",
    "print(f\"F1 Score Of Final Model : {round(f1_score(y_pred , y_test ,average='macro')*100,2)}%\")"
   ]
  },
  {
   "cell_type": "code",
   "execution_count": 81,
   "id": "8b12d824-571d-4e8d-83de-99216d6c056a",
   "metadata": {},
   "outputs": [],
   "source": [
    "# Save The Model , encoder and scalar For Deployment"
   ]
  },
  {
   "cell_type": "code",
   "execution_count": 82,
   "id": "133810c8-9509-4b3e-bf55-bb27b359bb8a",
   "metadata": {},
   "outputs": [
    {
     "data": {
      "text/plain": [
       "['health_prd_scaler.pkl']"
      ]
     },
     "execution_count": 82,
     "metadata": {},
     "output_type": "execute_result"
    }
   ],
   "source": [
    "joblib.dump(final_model,\"health_prd_model.pkl\")\n",
    "joblib.dump(onehot_encoder, \"health_prd_oh_encoder.pkl\")\n",
    "joblib.dump(label_encoder, \"health_prd_label_encoder.pkl\")\n",
    "joblib.dump(scalar, \"health_prd_scaler.pkl\")"
   ]
  },
  {
   "cell_type": "code",
   "execution_count": 77,
   "id": "039298e3-4215-4657-bd80-067735013e2c",
   "metadata": {},
   "outputs": [],
   "source": [
    "# Importtance Of feature"
   ]
  },
  {
   "cell_type": "code",
   "execution_count": 78,
   "id": "8d097a92-4599-4aff-a839-280de62fe177",
   "metadata": {},
   "outputs": [
    {
     "name": "stdout",
     "output_type": "stream",
     "text": [
      "         Feature  Importance\n",
      "6            BMI      0.2405\n",
      "9  Diabetes_True      0.2275\n",
      "8    Smoker_True      0.2205\n",
      "3    Cholesterol      0.1860\n",
      "1    Systolic BP      0.0205\n",
      "2   Diastolic BP      0.0130\n",
      "4    Height (cm)      0.0030\n",
      "7    Gender_Male      0.0025\n",
      "0            Age     -0.0010\n",
      "5    Weight (kg)     -0.0050\n"
     ]
    }
   ],
   "source": [
    "from sklearn.inspection import permutation_importance\n",
    "\n",
    "result = permutation_importance(final_model, x_test, y_test, n_repeats=10, random_state=42)\n",
    "\n",
    "importance_df = pd.DataFrame({\n",
    "    'Feature': x_test.columns,\n",
    "    'Importance': result.importances_mean\n",
    "}).sort_values(by='Importance', ascending=False)\n",
    "\n",
    "print(importance_df)"
   ]
  },
  {
   "cell_type": "code",
   "execution_count": 83,
   "id": "67793bee-5a00-4109-b27b-4cf8ff1617da",
   "metadata": {},
   "outputs": [
    {
     "data": {
      "image/png": "[encoded data removed]",
      "text/plain": [
       "<Figure size 640x480 with 1 Axes>"
      ]
     },
     "metadata": {},
     "output_type": "display_data"
    }
   ],
   "source": [
    "importance_df.head(10).plot(kind='barh', x='Feature', y='Importance', legend=False)\n",
    "plt.title(\"Top 10 Important Features For Health Status (Good/Bad/Fair)\")\n",
    "plt.show()\n"
   ]
  },
  {
   "cell_type": "code",
   "execution_count": null,
   "id": "f9ac368b-b89a-41f4-a9cb-b700af04b2da",
   "metadata": {},
   "outputs": [],
   "source": []
  }
 ],
 "metadata": {
  "kernelspec": {
   "display_name": "Python 3 (ipykernel)",
   "language": "python",
   "name": "python3"
  },
  "language_info": {
   "codemirror_mode": {
    "name": "ipython",
    "version": 3
   },
   "file_extension": ".py",
   "mimetype": "text/x-python",
   "name": "python",
   "nbconvert_exporter": "python",
   "pygments_lexer": "ipython3",
   "version": "3.12.3"
  }
 },
 "nbformat": 4,
 "nbformat_minor": 5
}
